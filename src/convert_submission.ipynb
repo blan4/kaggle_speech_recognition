{
 "cells": [
  {
   "cell_type": "code",
   "execution_count": 1,
   "metadata": {},
   "outputs": [],
   "source": [
    "import pandas as pd\n",
    "import numpy as np"
   ]
  },
  {
   "cell_type": "code",
   "execution_count": 16,
   "metadata": {},
   "outputs": [
    {
     "data": {
      "text/plain": [
       "{'bed': 'unknown',\n",
       " 'bird': 'unknown',\n",
       " 'cat': 'unknown',\n",
       " 'dog': 'unknown',\n",
       " 'eight': 'unknown',\n",
       " 'five': 'unknown',\n",
       " 'four': 'unknown',\n",
       " 'happy': 'unknown',\n",
       " 'house': 'unknown',\n",
       " 'marvin': 'unknown',\n",
       " 'nine': 'unknown',\n",
       " 'one': 'unknown',\n",
       " 'seven': 'unknown',\n",
       " 'sheila': 'unknown',\n",
       " 'six': 'unknown',\n",
       " 'three': 'unknown',\n",
       " 'tree': 'unknown',\n",
       " 'two': 'unknown',\n",
       " 'wow': 'unknown',\n",
       " 'zero': 'unknown'}"
      ]
     },
     "execution_count": 16,
     "metadata": {},
     "output_type": "execute_result"
    }
   ],
   "source": [
    "unknown = 'unknown'\n",
    "labels = 'yes no up down left right on off stop go silence'.split()\n",
    "all_labels = 'bed bird cat dog down eight five four go happy house left marvin nine no off on one right seven sheila six stop three tree two up wow yes zero silence'.split()\n",
    "other_labels = list(set(all_labels) - set(labels))\n",
    "mapping = {}\n",
    "for l in other_labels:\n",
    "    mapping[l] = unknown\n",
    "mapping"
   ]
  },
  {
   "cell_type": "code",
   "execution_count": 7,
   "metadata": {},
   "outputs": [
    {
     "data": {
      "text/html": [
       "<div>\n",
       "<style>\n",
       "    .dataframe thead tr:only-child th {\n",
       "        text-align: right;\n",
       "    }\n",
       "\n",
       "    .dataframe thead th {\n",
       "        text-align: left;\n",
       "    }\n",
       "\n",
       "    .dataframe tbody tr th {\n",
       "        vertical-align: top;\n",
       "    }\n",
       "</style>\n",
       "<table border=\"1\" class=\"dataframe\">\n",
       "  <thead>\n",
       "    <tr style=\"text-align: right;\">\n",
       "      <th></th>\n",
       "      <th>fname</th>\n",
       "      <th>label</th>\n",
       "    </tr>\n",
       "  </thead>\n",
       "  <tbody>\n",
       "    <tr>\n",
       "      <th>0</th>\n",
       "      <td>clip_4d0710158.wav</td>\n",
       "      <td>tree</td>\n",
       "    </tr>\n",
       "    <tr>\n",
       "      <th>1</th>\n",
       "      <td>clip_d0dd16000.wav</td>\n",
       "      <td>stop</td>\n",
       "    </tr>\n",
       "    <tr>\n",
       "      <th>2</th>\n",
       "      <td>clip_5bbf72e1b.wav</td>\n",
       "      <td>five</td>\n",
       "    </tr>\n",
       "    <tr>\n",
       "      <th>3</th>\n",
       "      <td>clip_056f86d82.wav</td>\n",
       "      <td>two</td>\n",
       "    </tr>\n",
       "    <tr>\n",
       "      <th>4</th>\n",
       "      <td>clip_83014e947.wav</td>\n",
       "      <td>nine</td>\n",
       "    </tr>\n",
       "  </tbody>\n",
       "</table>\n",
       "</div>"
      ],
      "text/plain": [
       "                fname label\n",
       "0  clip_4d0710158.wav  tree\n",
       "1  clip_d0dd16000.wav  stop\n",
       "2  clip_5bbf72e1b.wav  five\n",
       "3  clip_056f86d82.wav   two\n",
       "4  clip_83014e947.wav  nine"
      ]
     },
     "execution_count": 7,
     "metadata": {},
     "output_type": "execute_result"
    }
   ],
   "source": [
    "df = pd.read_csv('../submissions/submissions/submission2017-11-26 15:36:07.721986.csv')\n",
    "df.head()"
   ]
  },
  {
   "cell_type": "code",
   "execution_count": 21,
   "metadata": {},
   "outputs": [],
   "source": [
    "d = df.replace({\"label\": mapping})\n",
    "d.to_csv('../submissions/submissions/clear.csv', index=False)"
   ]
  }
 ],
 "metadata": {
  "kernelspec": {
   "display_name": "Python 3",
   "language": "python",
   "name": "python3"
  },
  "language_info": {
   "codemirror_mode": {
    "name": "ipython",
    "version": 3
   },
   "file_extension": ".py",
   "mimetype": "text/x-python",
   "name": "python",
   "nbconvert_exporter": "python",
   "pygments_lexer": "ipython3",
   "version": "3.6.3"
  }
 },
 "nbformat": 4,
 "nbformat_minor": 2
}
